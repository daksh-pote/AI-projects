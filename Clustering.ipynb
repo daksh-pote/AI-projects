{
 "cells": [
  {
   "cell_type": "markdown",
   "id": "ddfb439a-7ede-4042-8719-d98503d537c4",
   "metadata": {},
   "source": [
    "# K-Means Clustering"
   ]
  },
  {
   "cell_type": "markdown",
   "id": "a03adbdf-3a70-4902-8932-62579ce1e77b",
   "metadata": {},
   "source": [
    "### importing libraries"
   ]
  },
  {
   "cell_type": "code",
   "execution_count": 41,
   "id": "fb4dc944-ddd5-4d2c-aa5d-345340896193",
   "metadata": {},
   "outputs": [],
   "source": [
    "import pandas as pd\n",
    "import numpy as np"
   ]
  },
  {
   "cell_type": "markdown",
   "id": "3360e712-bcad-47ed-acf1-626fbfaaa09b",
   "metadata": {},
   "source": [
    "### loading the dataset"
   ]
  },
  {
   "cell_type": "code",
   "execution_count": 42,
   "id": "a9359a3b-6308-4255-91a7-f028de3cbefd",
   "metadata": {},
   "outputs": [],
   "source": [
    "dataset = pd.read_csv(\"data5.csv\")"
   ]
  },
  {
   "cell_type": "code",
   "execution_count": 43,
   "id": "055ef3da-97bb-4cd4-88c2-9948047235f0",
   "metadata": {},
   "outputs": [
    {
     "data": {
      "text/html": [
       "<div>\n",
       "<style scoped>\n",
       "    .dataframe tbody tr th:only-of-type {\n",
       "        vertical-align: middle;\n",
       "    }\n",
       "\n",
       "    .dataframe tbody tr th {\n",
       "        vertical-align: top;\n",
       "    }\n",
       "\n",
       "    .dataframe thead th {\n",
       "        text-align: right;\n",
       "    }\n",
       "</style>\n",
       "<table border=\"1\" class=\"dataframe\">\n",
       "  <thead>\n",
       "    <tr style=\"text-align: right;\">\n",
       "      <th></th>\n",
       "      <th>CustomerID</th>\n",
       "      <th>Gender</th>\n",
       "      <th>Age</th>\n",
       "      <th>AnnualIncome</th>\n",
       "      <th>SpendingScore</th>\n",
       "    </tr>\n",
       "  </thead>\n",
       "  <tbody>\n",
       "    <tr>\n",
       "      <th>0</th>\n",
       "      <td>1</td>\n",
       "      <td>Male</td>\n",
       "      <td>60</td>\n",
       "      <td>60800</td>\n",
       "      <td>54</td>\n",
       "    </tr>\n",
       "    <tr>\n",
       "      <th>1</th>\n",
       "      <td>2</td>\n",
       "      <td>Female</td>\n",
       "      <td>38</td>\n",
       "      <td>35620</td>\n",
       "      <td>81</td>\n",
       "    </tr>\n",
       "    <tr>\n",
       "      <th>2</th>\n",
       "      <td>3</td>\n",
       "      <td>Female</td>\n",
       "      <td>29</td>\n",
       "      <td>90381</td>\n",
       "      <td>63</td>\n",
       "    </tr>\n",
       "    <tr>\n",
       "      <th>3</th>\n",
       "      <td>4</td>\n",
       "      <td>Male</td>\n",
       "      <td>22</td>\n",
       "      <td>112299</td>\n",
       "      <td>9</td>\n",
       "    </tr>\n",
       "    <tr>\n",
       "      <th>4</th>\n",
       "      <td>5</td>\n",
       "      <td>Female</td>\n",
       "      <td>24</td>\n",
       "      <td>74268</td>\n",
       "      <td>62</td>\n",
       "    </tr>\n",
       "    <tr>\n",
       "      <th>...</th>\n",
       "      <td>...</td>\n",
       "      <td>...</td>\n",
       "      <td>...</td>\n",
       "      <td>...</td>\n",
       "      <td>...</td>\n",
       "    </tr>\n",
       "    <tr>\n",
       "      <th>95</th>\n",
       "      <td>96</td>\n",
       "      <td>Male</td>\n",
       "      <td>44</td>\n",
       "      <td>83720</td>\n",
       "      <td>73</td>\n",
       "    </tr>\n",
       "    <tr>\n",
       "      <th>96</th>\n",
       "      <td>97</td>\n",
       "      <td>Male</td>\n",
       "      <td>20</td>\n",
       "      <td>90399</td>\n",
       "      <td>62</td>\n",
       "    </tr>\n",
       "    <tr>\n",
       "      <th>97</th>\n",
       "      <td>98</td>\n",
       "      <td>Female</td>\n",
       "      <td>21</td>\n",
       "      <td>67394</td>\n",
       "      <td>14</td>\n",
       "    </tr>\n",
       "    <tr>\n",
       "      <th>98</th>\n",
       "      <td>99</td>\n",
       "      <td>Female</td>\n",
       "      <td>62</td>\n",
       "      <td>93925</td>\n",
       "      <td>6</td>\n",
       "    </tr>\n",
       "    <tr>\n",
       "      <th>99</th>\n",
       "      <td>100</td>\n",
       "      <td>Male</td>\n",
       "      <td>32</td>\n",
       "      <td>20894</td>\n",
       "      <td>1</td>\n",
       "    </tr>\n",
       "  </tbody>\n",
       "</table>\n",
       "<p>100 rows × 5 columns</p>\n",
       "</div>"
      ],
      "text/plain": [
       "    CustomerID  Gender  Age  AnnualIncome  SpendingScore\n",
       "0            1    Male   60         60800             54\n",
       "1            2  Female   38         35620             81\n",
       "2            3  Female   29         90381             63\n",
       "3            4    Male   22        112299              9\n",
       "4            5  Female   24         74268             62\n",
       "..         ...     ...  ...           ...            ...\n",
       "95          96    Male   44         83720             73\n",
       "96          97    Male   20         90399             62\n",
       "97          98  Female   21         67394             14\n",
       "98          99  Female   62         93925              6\n",
       "99         100    Male   32         20894              1\n",
       "\n",
       "[100 rows x 5 columns]"
      ]
     },
     "execution_count": 43,
     "metadata": {},
     "output_type": "execute_result"
    }
   ],
   "source": [
    "dataset"
   ]
  },
  {
   "cell_type": "code",
   "execution_count": 44,
   "id": "2d702fb3-3425-4d7f-8706-6a317e8b69fd",
   "metadata": {},
   "outputs": [],
   "source": [
    "x = dataset.iloc[:, [3,4]].values"
   ]
  },
  {
   "cell_type": "code",
   "execution_count": 45,
   "id": "7ee44720-6b98-4bb2-a2fb-4f86a8704cf6",
   "metadata": {},
   "outputs": [
    {
     "data": {
      "text/plain": [
       "array([[ 60800,     54],\n",
       "       [ 35620,     81],\n",
       "       [ 90381,     63],\n",
       "       [112299,      9],\n",
       "       [ 74268,     62],\n",
       "       [ 89069,      2],\n",
       "       [ 88473,     82],\n",
       "       [111757,     36],\n",
       "       [ 62512,     92],\n",
       "       [ 39608,     41],\n",
       "       [ 90557,     37],\n",
       "       [112309,     49],\n",
       "       [119438,     26],\n",
       "       [ 37340,     68],\n",
       "       [ 21913,     36],\n",
       "       [ 72086,     31],\n",
       "       [ 33429,     30],\n",
       "       [ 33907,     34],\n",
       "       [ 55489,     19],\n",
       "       [ 30088,     18],\n",
       "       [ 35588,     94],\n",
       "       [ 58395,     85],\n",
       "       [ 80155,      3],\n",
       "       [ 58214,     70],\n",
       "       [ 20469,     13],\n",
       "       [ 63295,     45],\n",
       "       [ 94253,     67],\n",
       "       [ 54488,     92],\n",
       "       [ 58040,     86],\n",
       "       [ 36975,     40],\n",
       "       [ 35912,     40],\n",
       "       [ 48086,     76],\n",
       "       [102127,     23],\n",
       "       [ 35115,     31],\n",
       "       [ 99983,     18],\n",
       "       [ 72573,     71],\n",
       "       [114201,     72],\n",
       "       [ 84223,     19],\n",
       "       [ 31052,     93],\n",
       "       [ 35741,     44],\n",
       "       [ 77368,     84],\n",
       "       [114275,     50],\n",
       "       [ 63986,     42],\n",
       "       [ 25103,     94],\n",
       "       [ 55050,     47],\n",
       "       [ 21740,     22],\n",
       "       [ 75270,     74],\n",
       "       [ 32579,     90],\n",
       "       [ 91382,     97],\n",
       "       [ 67805,     92],\n",
       "       [ 40165,     74],\n",
       "       [ 22775,     29],\n",
       "       [104523,     82],\n",
       "       [ 50752,     59],\n",
       "       [109099,      1],\n",
       "       [ 99464,     87],\n",
       "       [ 91892,     64],\n",
       "       [ 53930,     17],\n",
       "       [ 66774,     37],\n",
       "       [ 48651,     95],\n",
       "       [ 82885,     25],\n",
       "       [ 35997,     64],\n",
       "       [ 85180,     68],\n",
       "       [118927,     52],\n",
       "       [117768,      9],\n",
       "       [ 94498,     57],\n",
       "       [ 83003,     92],\n",
       "       [105971,     94],\n",
       "       [ 54009,     88],\n",
       "       [ 63671,     33],\n",
       "       [ 89939,     20],\n",
       "       [ 37582,     73],\n",
       "       [ 49844,     72],\n",
       "       [104917,     88],\n",
       "       [ 58429,     14],\n",
       "       [101475,     59],\n",
       "       [ 96323,     82],\n",
       "       [102727,     56],\n",
       "       [ 80809,     65],\n",
       "       [ 22121,     76],\n",
       "       [ 65353,     93],\n",
       "       [109987,     37],\n",
       "       [ 23886,     26],\n",
       "       [ 61690,     33],\n",
       "       [107986,     43],\n",
       "       [100748,     15],\n",
       "       [ 95523,     87],\n",
       "       [102119,     29],\n",
       "       [119751,     21],\n",
       "       [ 25181,     83],\n",
       "       [ 63349,     69],\n",
       "       [ 96578,     23],\n",
       "       [ 62914,    100],\n",
       "       [ 90744,     84],\n",
       "       [ 91713,      8],\n",
       "       [ 83720,     73],\n",
       "       [ 90399,     62],\n",
       "       [ 67394,     14],\n",
       "       [ 93925,      6],\n",
       "       [ 20894,      1]], dtype=int64)"
      ]
     },
     "execution_count": 45,
     "metadata": {},
     "output_type": "execute_result"
    }
   ],
   "source": [
    "x"
   ]
  },
  {
   "cell_type": "markdown",
   "id": "5e495e13-e2c3-47ac-94f5-de843719009d",
   "metadata": {},
   "source": [
    "### Elbow Method"
   ]
  },
  {
   "cell_type": "code",
   "execution_count": 46,
   "id": "4120ad06-83dd-46fa-9948-4ff697c6d6b3",
   "metadata": {},
   "outputs": [],
   "source": [
    "from sklearn.cluster import KMeans"
   ]
  },
  {
   "cell_type": "code",
   "execution_count": 47,
   "id": "b5e9bd67-2619-4488-bfe8-6c9fb59ac087",
   "metadata": {},
   "outputs": [],
   "source": [
    "WCSS = []"
   ]
  },
  {
   "cell_type": "code",
   "execution_count": 48,
   "id": "ddb07691-9d76-4604-bcd4-054e00abd394",
   "metadata": {},
   "outputs": [],
   "source": [
    "for i in range(2,11):\n",
    "    kmeans = KMeans(n_clusters = i,init = \"k-means++\",random_state = 42)\n",
    "    kmeans.fit(x)\n",
    "    WCSS.append(kmeans.inertia_)"
   ]
  },
  {
   "cell_type": "code",
   "execution_count": 49,
   "id": "1117828a-ce97-4aaf-a901-b4bd34e5acf5",
   "metadata": {},
   "outputs": [],
   "source": [
    "import matplotlib.pyplot as plt"
   ]
  },
  {
   "cell_type": "code",
   "execution_count": 50,
   "id": "5cdebb40-21fe-47af-ad37-86e465db6e50",
   "metadata": {},
   "outputs": [
    {
     "data": {
      "text/plain": [
       "[<matplotlib.lines.Line2D at 0x24da98c24e0>]"
      ]
     },
     "execution_count": 50,
     "metadata": {},
     "output_type": "execute_result"
    },
    {
     "data": {
      "image/png": "[encoded data removed]",
      "text/plain": [
       "<Figure size 640x480 with 1 Axes>"
      ]
     },
     "metadata": {},
     "output_type": "display_data"
    }
   ],
   "source": [
    "plt.plot(range(2,11),WCSS)"
   ]
  },
  {
   "cell_type": "code",
   "execution_count": 51,
   "id": "284d6f78-b5c3-49eb-9b21-730fb782bea9",
   "metadata": {},
   "outputs": [],
   "source": [
    "kmeans = KMeans(n_clusters = 5,init = \"k-means++\",random_state = 42)"
   ]
  },
  {
   "cell_type": "code",
   "execution_count": 52,
   "id": "a90523e3-b72a-4a09-be73-c48b5d12bd1e",
   "metadata": {},
   "outputs": [],
   "source": [
    "y_means = kmeans.fit_predict(x)"
   ]
  },
  {
   "cell_type": "code",
   "execution_count": 38,
   "id": "5dd79960-85b5-47fb-93f2-e193cc5ced0f",
   "metadata": {},
   "outputs": [
    {
     "data": {
      "text/plain": [
       "array([3, 1, 0, 2, 3, 0, 0, 2, 3, 1, 0, 2, 2, 1, 4, 3, 1, 1, 3, 4, 1, 3,\n",
       "       0, 3, 4, 3, 0, 3, 3, 1, 1, 1, 2, 1, 2, 3, 2, 0, 1, 1, 0, 2, 3, 4,\n",
       "       3, 4, 0, 1, 0, 3, 1, 4, 2, 3, 2, 2, 0, 3, 3, 1, 0, 1, 0, 2, 2, 0,\n",
       "       0, 2, 3, 3, 0, 1, 1, 2, 3, 2, 0, 2, 0, 4, 3, 2, 4, 3, 2, 2, 0, 2,\n",
       "       2, 4, 3, 0, 3, 0, 0, 0, 0, 3, 0, 4])"
      ]
     },
     "execution_count": 38,
     "metadata": {},
     "output_type": "execute_result"
    }
   ],
   "source": [
    "y_means"
   ]
  },
  {
   "cell_type": "markdown",
   "id": "ffc7753d-111f-4815-aeb5-cf32f021e9db",
   "metadata": {},
   "source": [
    "### Visualizing"
   ]
  },
  {
   "cell_type": "code",
   "execution_count": 39,
   "id": "16549e46-0ed9-4c83-9e80-7a643fffff0f",
   "metadata": {},
   "outputs": [
    {
     "data": {
      "text/plain": [
       "<matplotlib.collections.PathCollection at 0x24da981ecf0>"
      ]
     },
     "execution_count": 39,
     "metadata": {},
     "output_type": "execute_result"
    },
    {
     "data": {
      "image/png": "[encoded data removed]",
      "text/plain": [
       "<Figure size 640x480 with 1 Axes>"
      ]
     },
     "metadata": {},
     "output_type": "display_data"
    }
   ],
   "source": [
    "plt.scatter(x[y_means == 0, 0], x[y_means ==0,1], s=100, c='red', label='cluser1')\n",
    "plt.scatter(x[y_means == 1, 0], x[y_means ==1,1], s=100, c='blue', label='cluser2')\n",
    "plt.scatter(x[y_means == 2, 0], x[y_means ==2,1], s=100, c='green', label='cluser3')\n",
    "plt.scatter(x[y_means == 3, 0], x[y_means ==3,1], s=100, c='cyan', label='cluser4')\n",
    "plt.scatter(x[y_means == 4, 0], x[y_means ==4,1], s=100, c='magenta', label='cluser5')"
   ]
  },
  {
   "cell_type": "code",
   "execution_count": null,
   "id": "78fd7715-5ab1-4dc9-bfbc-34f7928742dd",
   "metadata": {},
   "outputs": [],
   "source": []
  }
 ],
 "metadata": {
  "kernelspec": {
   "display_name": "Python 3 (ipykernel)",
   "language": "python",
   "name": "python3"
  },
  "language_info": {
   "codemirror_mode": {
    "name": "ipython",
    "version": 3
   },
   "file_extension": ".py",
   "mimetype": "text/x-python",
   "name": "python",
   "nbconvert_exporter": "python",
   "pygments_lexer": "ipython3",
   "version": "3.12.1"
  }
 },
 "nbformat": 4,
 "nbformat_minor": 5
}
